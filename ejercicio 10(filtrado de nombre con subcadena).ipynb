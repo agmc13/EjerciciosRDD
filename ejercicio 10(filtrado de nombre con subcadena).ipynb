{
 "cells": [
  {
   "cell_type": "code",
   "execution_count": 14,
   "metadata": {},
   "outputs": [],
   "source": [
    "class RDD:\n",
    "    def __init__(self):\n",
    "        global nombres\n",
    "        names = sc.parallelize([\"alfonso\",\"gonzalo\",\"moreno\",\"cordoba\",\"jose\",\"javier\",\"carlos\"]).collect()\n",
    "    \n",
    "    def filtrado(self,letter):\n",
    "        search = letter\n",
    "        for a in nombres: \n",
    "            if search in a:\n",
    "                print(a)\n"
   ]
  },
  {
   "cell_type": "code",
   "execution_count": 13,
   "metadata": {},
   "outputs": [
    {
     "name": "stdout",
     "output_type": "stream",
     "text": [
      "alfonso\n",
      "gonzalo\n",
      "cordoba\n",
      "javier\n",
      "carlos\n"
     ]
    }
   ],
   "source": [
    "lista=RDD()\n",
    "lista.filtrado(\"a\")"
   ]
  },
  {
   "cell_type": "code",
   "execution_count": null,
   "metadata": {},
   "outputs": [],
   "source": []
  }
 ],
 "metadata": {
  "kernelspec": {
   "display_name": "Python 3",
   "language": "python",
   "name": "python3"
  },
  "language_info": {
   "codemirror_mode": {
    "name": "ipython",
    "version": 3
   },
   "file_extension": ".py",
   "mimetype": "text/x-python",
   "name": "python",
   "nbconvert_exporter": "python",
   "pygments_lexer": "ipython3",
   "version": "3.5.6"
  }
 },
 "nbformat": 4,
 "nbformat_minor": 2
}
