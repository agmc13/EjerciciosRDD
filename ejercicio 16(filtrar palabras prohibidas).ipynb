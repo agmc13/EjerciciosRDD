{
 "cells": [
  {
   "cell_type": "code",
   "execution_count": 1,
   "metadata": {},
   "outputs": [],
   "source": [
    "class RDD:\n",
    "    def __init__(self):\n",
    "        lista =(\"grafica\",\"ventana\",\"siguiente\")\n",
    "        filtro = sc.textFile('ejercicio16.txt').flatMap(lambda palabra: palabra.split(' ')).filter(lambda y: y not in lista).map(lambda y: (y,1)).reduceByKey(lambda a, b: a + b).collect()\n",
    "        print(filtro)"
   ]
  },
  {
   "cell_type": "code",
   "execution_count": 2,
   "metadata": {},
   "outputs": [
    {
     "name": "stdout",
     "output_type": "stream",
     "text": [
      "[('le', 2), ('confirmar', 1), ('que', 2), ('abria', 1), ('a', 3), ('donde', 1), ('dar', 1), ('se', 1), ('abriremos', 1), ('y', 2), ('una', 1), ('queremos', 1), ('instalar', 2), ('sifuiente', 1), ('daremos', 1), ('despues', 1), ('finalmente', 1), ('tendremos', 2), ('la', 2), ('para', 1), ('otra', 1), ('volveremos', 1)]\n"
     ]
    }
   ],
   "source": [
    "prohibido=RDD()"
   ]
  },
  {
   "cell_type": "code",
   "execution_count": null,
   "metadata": {},
   "outputs": [],
   "source": []
  }
 ],
 "metadata": {
  "kernelspec": {
   "display_name": "Python 3",
   "language": "python",
   "name": "python3"
  },
  "language_info": {
   "codemirror_mode": {
    "name": "ipython",
    "version": 3
   },
   "file_extension": ".py",
   "mimetype": "text/x-python",
   "name": "python",
   "nbconvert_exporter": "python",
   "pygments_lexer": "ipython3",
   "version": "3.5.6"
  }
 },
 "nbformat": 4,
 "nbformat_minor": 2
}
