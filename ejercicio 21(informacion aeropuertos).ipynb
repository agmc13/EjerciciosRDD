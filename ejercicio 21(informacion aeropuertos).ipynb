{
 "cells": [
  {
   "cell_type": "code",
   "execution_count": 1,
   "metadata": {},
   "outputs": [],
   "source": [
    "from pyspark.sql import Row"
   ]
  },
  {
   "cell_type": "code",
   "execution_count": 2,
   "metadata": {},
   "outputs": [],
   "source": [
    "class RDD:\n",
    "    def __init__(self):\n",
    "        global df\n",
    "        global esquema\n",
    "        esquema = sc.textFile(\"ejercicio21.txt\").map(lambda line: line.split(\",\")).map(lambda x: Row(id=int(x[0]),nombre=x[1],ciudad=x[2],pais=x[3],latitud=int(x[4]),altitud=int(x[5]),longitud=int(x[6]),horario=x[7])).collect()\n",
    "        df = sqlContext.createDataFrame(esquema)\n",
    "        sqlContext.registerDataFrameAsTable(df,\"datos\")\n",
    "        df.registerTempTable(\"datos\")\n",
    "        \n",
    "    def espania(self):\n",
    "        data=sqlContext.sql(\"Select * from datos where pais='Espana'\")\n",
    "        data.show()\n",
    "        data.write.csv('España.csv')\n",
    "        \n",
    "    def latitud(self):\n",
    "        data2=sqlContext.sql(\"Select * from datos where latitud > 40\")\n",
    "        data2.show()\n",
    "        data2.write.csv('latitud.csv')"
   ]
  },
  {
   "cell_type": "code",
   "execution_count": 3,
   "metadata": {},
   "outputs": [
    {
     "name": "stdout",
     "output_type": "stream",
     "text": [
      "+-------+------+-------+---+-------+--------+--------+------+\n",
      "|altitud|ciudad|horario| id|latitud|longitud|  nombre|  pais|\n",
      "+-------+------+-------+---+-------+--------+--------+------+\n",
      "|     34|   ZAZ|  UTC11|  0|     74|      85|zaragoza|Espana|\n",
      "|     84|   SDR|   UTC3|  1|     40|     124| Camargo|Espana|\n",
      "+-------+------+-------+---+-------+--------+--------+------+\n",
      "\n",
      "+-------+------+-------+---+-------+--------+---------+--------+\n",
      "|altitud|ciudad|horario| id|latitud|longitud|   nombre|    pais|\n",
      "+-------+------+-------+---+-------+--------+---------+--------+\n",
      "|     34|   ZAZ|  UTC11|  0|     74|      85| zaragoza|  Espana|\n",
      "|     92|   RES|  UTC12|  3|     60|     100|    Noain| Francia|\n",
      "|     79|   PER|   UTC5|  5|     45|     143|Agoncillo|Portugal|\n",
      "|     90|   MGH|   UTC1|  7|     60|     140|    Lujua|   Suiza|\n",
      "+-------+------+-------+---+-------+--------+---------+--------+\n",
      "\n"
     ]
    }
   ],
   "source": [
    "busqueda=RDD()\n",
    "busqueda.espania()\n",
    "busqueda.latitud()"
   ]
  },
  {
   "cell_type": "code",
   "execution_count": null,
   "metadata": {},
   "outputs": [],
   "source": []
  },
  {
   "cell_type": "code",
   "execution_count": null,
   "metadata": {},
   "outputs": [],
   "source": []
  }
 ],
 "metadata": {
  "kernelspec": {
   "display_name": "Python 3",
   "language": "python",
   "name": "python3"
  },
  "language_info": {
   "codemirror_mode": {
    "name": "ipython",
    "version": 3
   },
   "file_extension": ".py",
   "mimetype": "text/x-python",
   "name": "python",
   "nbconvert_exporter": "python",
   "pygments_lexer": "ipython3",
   "version": "3.5.6"
  }
 },
 "nbformat": 4,
 "nbformat_minor": 2
}
