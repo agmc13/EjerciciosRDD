{
 "cells": [
  {
   "cell_type": "code",
   "execution_count": 47,
   "metadata": {},
   "outputs": [],
   "source": [
    "from pyspark.sql import Row\n",
    "from pyspark.sql import HiveContext"
   ]
  },
  {
   "cell_type": "code",
   "execution_count": 75,
   "metadata": {},
   "outputs": [],
   "source": [
    "class RDD:\n",
    "    def __init__(self):\n",
    "        rdd = sc.parallelize(([3,2,8,5,9,6,6,8,7,4,5,2,3,4,5,6])).map(lambda x:(x*x*x)).map(lambda x: (x, )).toDF()\n",
    "        sqlContext.registerDataFrameAsTable(rdd, \"cubos\")\n",
    "        df1=sqlContext.sql(\"Select * from test_table\")\n",
    "        pdf1=df1.toPandas()\n",
    "        pdf1.plot(kind='bar')\n",
    "    def pares(self):\n",
    "        rdd = sc.parallelize(([3,2,8,5,9,6,6,8,7,4,5,2,3,4,5,6])).map(lambda x:(x*x*x)).collect()\n",
    "        for x in rdd:\n",
    "            if(x % 2==0):\n",
    "                print(x,\"Es un numero par\")"
   ]
  },
  {
   "cell_type": "code",
   "execution_count": 74,
   "metadata": {},
   "outputs": [
    {
     "data": {
      "image/png": "[encoded data removed]",
      "text/plain": [
       "<Figure size 432x288 with 1 Axes>"
      ]
     },
     "metadata": {
      "needs_background": "light"
     },
     "output_type": "display_data"
    }
   ],
   "source": [
    "transformacion=RDD()"
   ]
  },
  {
   "cell_type": "code",
   "execution_count": 72,
   "metadata": {},
   "outputs": [
    {
     "name": "stdout",
     "output_type": "stream",
     "text": [
      "8 Es par\n",
      "512 Es par\n",
      "216 Es par\n",
      "216 Es par\n",
      "512 Es par\n",
      "64 Es par\n",
      "8 Es par\n",
      "64 Es par\n",
      "216 Es par\n"
     ]
    }
   ],
   "source": [
    "transformacion.pares()"
   ]
  },
  {
   "cell_type": "code",
   "execution_count": null,
   "metadata": {},
   "outputs": [],
   "source": []
  }
 ],
 "metadata": {
  "kernelspec": {
   "display_name": "Python 3",
   "language": "python",
   "name": "python3"
  },
  "language_info": {
   "codemirror_mode": {
    "name": "ipython",
    "version": 3
   },
   "file_extension": ".py",
   "mimetype": "text/x-python",
   "name": "python",
   "nbconvert_exporter": "python",
   "pygments_lexer": "ipython3",
   "version": "3.5.6"
  }
 },
 "nbformat": 4,
 "nbformat_minor": 2
}
