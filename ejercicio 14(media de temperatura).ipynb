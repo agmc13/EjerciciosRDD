{
 "cells": [
  {
   "cell_type": "code",
   "execution_count": 16,
   "metadata": {},
   "outputs": [],
   "source": [
    "class RDD:\n",
    "    def __init__(self):\n",
    "        global temp\n",
    "        temp = temperaturas=sc.parallelize(([('Londres',10,-2),('Suiza',13,4),('Francia',20,12),(\"España\",25,13)])).collect()\n",
    "    def media(self):\n",
    "        a = 0\n",
    "        b = 0\n",
    "        for x in temp:\n",
    "            a=x[1]+x[2]\n",
    "            print(x[0])\n",
    "            print(a/2)\n",
    "            a=0"
   ]
  },
  {
   "cell_type": "code",
   "execution_count": 17,
   "metadata": {},
   "outputs": [
    {
     "name": "stdout",
     "output_type": "stream",
     "text": [
      "Londres\n",
      "4.0\n",
      "Suiza\n",
      "8.5\n",
      "Francia\n",
      "16.0\n",
      "España\n",
      "19.0\n"
     ]
    }
   ],
   "source": [
    "temperatura=RDD()\n",
    "temperatura.media()"
   ]
  },
  {
   "cell_type": "code",
   "execution_count": null,
   "metadata": {},
   "outputs": [],
   "source": []
  }
 ],
 "metadata": {
  "kernelspec": {
   "display_name": "Python 3",
   "language": "python",
   "name": "python3"
  },
  "language_info": {
   "codemirror_mode": {
    "name": "ipython",
    "version": 3
   },
   "file_extension": ".py",
   "mimetype": "text/x-python",
   "name": "python",
   "nbconvert_exporter": "python",
   "pygments_lexer": "ipython3",
   "version": "3.5.6"
  }
 },
 "nbformat": 4,
 "nbformat_minor": 2
}
