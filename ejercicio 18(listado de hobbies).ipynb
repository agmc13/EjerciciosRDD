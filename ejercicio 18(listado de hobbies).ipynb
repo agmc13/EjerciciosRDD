{
 "cells": [
  {
   "cell_type": "code",
   "execution_count": 1,
   "metadata": {},
   "outputs": [],
   "source": [
    "class RDD:\n",
    "    def __init__(self):\n",
    "        usuario=sc.parallelize([(0,'Alfonso'),(1,'Gonzalo'),(2,'Carlos'),(3,\"Luis\"),(4,\"Javi\")])\n",
    "        aficion=sc.parallelize([(0,'Comic'),(1,'Cine'),(2,'Musica'),(4,\"Deporte\")])\n",
    "        listado = usuario.fullOuterJoin(aficion).collect()\n",
    "        print(listado)\n",
    "        "
   ]
  },
  {
   "cell_type": "code",
   "execution_count": 2,
   "metadata": {},
   "outputs": [
    {
     "name": "stdout",
     "output_type": "stream",
     "text": [
      "[(0, ('Alfonso', 'Comic')), (2, ('Carlos', 'Musica')), (4, ('Javi', 'Deporte')), (1, ('Gonzalo', 'Cine')), (3, ('Luis', None))]\n"
     ]
    }
   ],
   "source": [
    "hobbies=RDD()"
   ]
  },
  {
   "cell_type": "code",
   "execution_count": null,
   "metadata": {},
   "outputs": [],
   "source": []
  }
 ],
 "metadata": {
  "kernelspec": {
   "display_name": "Python 3",
   "language": "python",
   "name": "python3"
  },
  "language_info": {
   "codemirror_mode": {
    "name": "ipython",
    "version": 3
   },
   "file_extension": ".py",
   "mimetype": "text/x-python",
   "name": "python",
   "nbconvert_exporter": "python",
   "pygments_lexer": "ipython3",
   "version": "3.5.6"
  }
 },
 "nbformat": 4,
 "nbformat_minor": 2
}
