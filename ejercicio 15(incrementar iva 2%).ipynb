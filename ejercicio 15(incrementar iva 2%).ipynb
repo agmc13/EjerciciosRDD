{
 "cells": [
  {
   "cell_type": "code",
   "execution_count": 2,
   "metadata": {},
   "outputs": [],
   "source": [
    "class RDD:\n",
    "    def __init__(self):\n",
    "        incremento = sc.parallelize(([('portugal',14),('Italia',20),('Suiza',16),(\"España\",21)])).mapValues(lambda x: x+((x*2)/100)).collect()\n",
    "        print(incremento)"
   ]
  },
  {
   "cell_type": "code",
   "execution_count": 3,
   "metadata": {},
   "outputs": [
    {
     "name": "stdout",
     "output_type": "stream",
     "text": [
      "[('portugal', 14.28), ('Italia', 20.4), ('Suiza', 16.32), ('España', 21.42)]\n"
     ]
    }
   ],
   "source": [
    "iva=RDD()"
   ]
  },
  {
   "cell_type": "code",
   "execution_count": null,
   "metadata": {},
   "outputs": [],
   "source": []
  }
 ],
 "metadata": {
  "kernelspec": {
   "display_name": "Python 3",
   "language": "python",
   "name": "python3"
  },
  "language_info": {
   "codemirror_mode": {
    "name": "ipython",
    "version": 3
   },
   "file_extension": ".py",
   "mimetype": "text/x-python",
   "name": "python",
   "nbconvert_exporter": "python",
   "pygments_lexer": "ipython3",
   "version": "3.5.6"
  }
 },
 "nbformat": 4,
 "nbformat_minor": 2
}
