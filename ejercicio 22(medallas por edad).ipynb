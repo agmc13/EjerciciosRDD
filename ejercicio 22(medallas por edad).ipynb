{
 "cells": [
  {
   "cell_type": "code",
   "execution_count": 43,
   "metadata": {},
   "outputs": [],
   "source": [
    "from pyspark.sql import Row"
   ]
  },
  {
   "cell_type": "code",
   "execution_count": 44,
   "metadata": {},
   "outputs": [],
   "source": [
    "class RDD:\n",
    "    def __init__(self):\n",
    "        global df\n",
    "        global esquema\n",
    "        esquema = sc.textFile(\"ejercicio22.txt\").map(lambda line: line.split(\",\")).map(lambda x: Row(nombre=x[0],medallas=x[1],edad=int(x[2]))).collect()\n",
    "        df = sqlContext.createDataFrame(esquema)\n",
    "        sqlContext.registerDataFrameAsTable(df,\"datos\")\n",
    "        df.registerTempTable(\"datos\")\n",
    "        \n",
    "    def medallas(self):\n",
    "        total = sqlContext.sql(\"Select count(medallas) as Numero_medallas,edad from datos  group By edad\")\n",
    "        total.show()"
   ]
  },
  {
   "cell_type": "code",
   "execution_count": 45,
   "metadata": {},
   "outputs": [
    {
     "name": "stdout",
     "output_type": "stream",
     "text": [
      "+---------------+----+\n",
      "|Numero_medallas|edad|\n",
      "+---------------+----+\n",
      "|              1|  26|\n",
      "|              1|  19|\n",
      "|              3|  22|\n",
      "|              1|  31|\n",
      "|              1|  27|\n",
      "|              1|  18|\n",
      "|              2|  21|\n",
      "|              3|  23|\n",
      "|              3|  24|\n",
      "+---------------+----+\n",
      "\n"
     ]
    }
   ],
   "source": [
    "contar=RDD()\n",
    "contar.medallas()"
   ]
  },
  {
   "cell_type": "code",
   "execution_count": null,
   "metadata": {},
   "outputs": [],
   "source": []
  }
 ],
 "metadata": {
  "kernelspec": {
   "display_name": "Python 3",
   "language": "python",
   "name": "python3"
  },
  "language_info": {
   "codemirror_mode": {
    "name": "ipython",
    "version": 3
   },
   "file_extension": ".py",
   "mimetype": "text/x-python",
   "name": "python",
   "nbconvert_exporter": "python",
   "pygments_lexer": "ipython3",
   "version": "3.5.6"
  }
 },
 "nbformat": 4,
 "nbformat_minor": 2
}
