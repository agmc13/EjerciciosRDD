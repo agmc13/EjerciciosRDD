{
 "cells": [
  {
   "cell_type": "code",
   "execution_count": 14,
   "metadata": {},
   "outputs": [],
   "source": [
    "class RDD:\n",
    "    def __init__(self):\n",
    "        bajo_cero = sc.parallelize([(2009,28),(1865,-22),(1653,2),(1546,-2),(1458,4)]).filter(lambda x: x[1] < 0).collect()\n",
    "        print(\"temperatura bajo cero:\")\n",
    "        print(bajo_cero)\n",
    "        print(\"\\n\")\n",
    "        \n",
    "        tmp_baja = sc.parallelize([(2009,28),(1865,22),(1653,2),(1546,-2),(1458,4)]).takeOrdered(3, key=lambda x: x[1])\n",
    "        print(\"Las tres temperaturas mas bajas:\")\n",
    "        print(tmp_baja)\n",
    "        print(\"\\n\")\n",
    "        \n",
    "        tmp_alta = sc.parallelize([(2009,28),(1688,-20),(1865,-22),(1653,2),(1546,-2),(1458,4)]).top(3, key=lambda x: x[1] < 0 )\n",
    "        print(\"Las tres temperaturas mas bajas bajo cero:\")\n",
    "        print(tmp_alta)\n",
    "        print(\"\\n\")"
   ]
  },
  {
   "cell_type": "code",
   "execution_count": 15,
   "metadata": {},
   "outputs": [
    {
     "name": "stdout",
     "output_type": "stream",
     "text": [
      "temperatura bajo cero:\n",
      "[(1865, -22), (1546, -2)]\n",
      "\n",
      "\n",
      "Las tres temperaturas mas bajas:\n",
      "[(1546, -2), (1653, 2), (1458, 4)]\n",
      "\n",
      "\n",
      "Las tres temperaturas mas bajas bajo cero:\n",
      "[(1688, -20), (1865, -22), (1546, -2)]\n",
      "\n",
      "\n"
     ]
    }
   ],
   "source": [
    "temperatura=RDD()"
   ]
  },
  {
   "cell_type": "code",
   "execution_count": null,
   "metadata": {},
   "outputs": [],
   "source": []
  }
 ],
 "metadata": {
  "kernelspec": {
   "display_name": "Python 3",
   "language": "python",
   "name": "python3"
  },
  "language_info": {
   "codemirror_mode": {
    "name": "ipython",
    "version": 3
   },
   "file_extension": ".py",
   "mimetype": "text/x-python",
   "name": "python",
   "nbconvert_exporter": "python",
   "pygments_lexer": "ipython3",
   "version": "3.5.6"
  }
 },
 "nbformat": 4,
 "nbformat_minor": 2
}
