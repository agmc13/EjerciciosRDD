{
 "cells": [
  {
   "cell_type": "code",
   "execution_count": 3,
   "metadata": {},
   "outputs": [],
   "source": [
    "class RDD:\n",
    "    def __init__(self):\n",
    "        #De celsius a Fahrenheit\n",
    "        celsius = sc.parallelize([(2009,28),(1865,22),(1653,2),(1546,-2),(1458,4)]).mapValues(lambda x: (x*(9/5))+32).collect()\n",
    "        print(celsius)"
   ]
  },
  {
   "cell_type": "code",
   "execution_count": 4,
   "metadata": {},
   "outputs": [
    {
     "name": "stdout",
     "output_type": "stream",
     "text": [
      "[(2009, 82.4), (1865, 71.6), (1653, 35.6), (1546, 28.4), (1458, 39.2)]\n"
     ]
    }
   ],
   "source": [
    "temperatura=RDD()"
   ]
  },
  {
   "cell_type": "code",
   "execution_count": null,
   "metadata": {},
   "outputs": [],
   "source": []
  }
 ],
 "metadata": {
  "kernelspec": {
   "display_name": "Python 3",
   "language": "python",
   "name": "python3"
  },
  "language_info": {
   "codemirror_mode": {
    "name": "ipython",
    "version": 3
   },
   "file_extension": ".py",
   "mimetype": "text/x-python",
   "name": "python",
   "nbconvert_exporter": "python",
   "pygments_lexer": "ipython3",
   "version": "3.5.6"
  }
 },
 "nbformat": 4,
 "nbformat_minor": 2
}
