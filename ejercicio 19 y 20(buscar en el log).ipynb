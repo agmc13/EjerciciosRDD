{
 "cells": [
  {
   "cell_type": "code",
   "execution_count": 10,
   "metadata": {},
   "outputs": [],
   "source": [
    "class RDD:\n",
    "    def errores(self,separacion,palabra):\n",
    "        def filtro(corte):\n",
    "            a = corte.split(separacion)\n",
    "            return a\n",
    "        filtro = sc.textFile('user.log').map(filtro).filter(lambda x: x[0]==palabra).collect()\n",
    "        print(filtro)\n",
    "        print(\"\\n\")"
   ]
  },
  {
   "cell_type": "code",
   "execution_count": 11,
   "metadata": {},
   "outputs": [
    {
     "name": "stdout",
     "output_type": "stream",
     "text": [
      "[['warning', ' no se puede crear la funcion.'], ['warning', ' el usuario ya existe en el sistema.'], ['warning', ' el equipo se apagara a las 12:00.'], ['warning', ' no se pudo crear el directorio \"prueba\"']]\n",
      "\n",
      "\n",
      "[['error', ' ha ocurrido algo inesperado.'], ['error', ' no se puede abrir el directorio.'], ['error', ' el usuario ya tiene iniciada una sesion.'], ['error', ' pongase en contacto con el administrador.']]\n",
      "\n",
      "\n"
     ]
    }
   ],
   "source": [
    "busqueda=RDD()\n",
    "busqueda.errores(\",\",\"warning\")\n",
    "busqueda.errores(\",\",\"error\")"
   ]
  },
  {
   "cell_type": "code",
   "execution_count": null,
   "metadata": {},
   "outputs": [],
   "source": []
  }
 ],
 "metadata": {
  "kernelspec": {
   "display_name": "Python 3",
   "language": "python",
   "name": "python3"
  },
  "language_info": {
   "codemirror_mode": {
    "name": "ipython",
    "version": 3
   },
   "file_extension": ".py",
   "mimetype": "text/x-python",
   "name": "python",
   "nbconvert_exporter": "python",
   "pygments_lexer": "ipython3",
   "version": "3.5.6"
  }
 },
 "nbformat": 4,
 "nbformat_minor": 2
}
